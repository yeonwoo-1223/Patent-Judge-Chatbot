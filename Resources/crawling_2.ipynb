{
 "cells": [
  {
   "cell_type": "code",
   "execution_count": null,
   "metadata": {},
   "outputs": [
    {
     "name": "stdout",
     "output_type": "stream",
     "text": [
      "📄 처리 중: [상표]DoctorsNow 사건(특허법원 2024허15431)\n",
      "✅ 다운로드 시작됨: [상표]DoctorsNow 사건(특허법원 2024허15431)\n",
      "📄 처리 중: [특허]수상 레저용 보트 권리범위확인 사건(특허법원 2024허14643)\n",
      "✅ 다운로드 시작됨: [특허]수상 레저용 보트 권리범위확인 사건(특허법원 2024허14643)\n",
      "📄 처리 중: [특허]쇼케이스용 착탈식 자동 회전 도어 권리범위확인 사건(특허법원 2024허12685)\n",
      "✅ 다운로드 시작됨: [특허]쇼케이스용 착탈식 자동 회전 도어 권리범위확인 사건(특허법원 2024허12685)\n"
     ]
    },
    {
     "ename": "KeyboardInterrupt",
     "evalue": "",
     "output_type": "error",
     "traceback": [
      "\u001b[31m---------------------------------------------------------------------------\u001b[39m",
      "\u001b[31mKeyboardInterrupt\u001b[39m                         Traceback (most recent call last)",
      "\u001b[36mCell\u001b[39m\u001b[36m \u001b[39m\u001b[32mIn[7]\u001b[39m\u001b[32m, line 55\u001b[39m\n\u001b[32m     52\u001b[39m     \u001b[38;5;28mprint\u001b[39m(\u001b[33mf\u001b[39m\u001b[33m\"\u001b[39m\u001b[33m✅ 다운로드 시작됨: \u001b[39m\u001b[38;5;132;01m{\u001b[39;00msafe_title\u001b[38;5;132;01m}\u001b[39;00m\u001b[33m\"\u001b[39m)\n\u001b[32m     54\u001b[39m     \u001b[38;5;66;03m# 다운로드 대기\u001b[39;00m\n\u001b[32m---> \u001b[39m\u001b[32m55\u001b[39m     \u001b[43mtime\u001b[49m\u001b[43m.\u001b[49m\u001b[43msleep\u001b[49m\u001b[43m(\u001b[49m\u001b[32;43m5\u001b[39;49m\u001b[43m)\u001b[49m\n\u001b[32m     57\u001b[39m \u001b[38;5;28;01mexcept\u001b[39;00m \u001b[38;5;167;01mException\u001b[39;00m \u001b[38;5;28;01mas\u001b[39;00m e:\n\u001b[32m     58\u001b[39m     \u001b[38;5;28mprint\u001b[39m(\u001b[33mf\u001b[39m\u001b[33m\"\u001b[39m\u001b[33m❌ 다운로드 실패: \u001b[39m\u001b[38;5;132;01m{\u001b[39;00mtitle\u001b[38;5;132;01m}\u001b[39;00m\u001b[33m - \u001b[39m\u001b[38;5;132;01m{\u001b[39;00me\u001b[38;5;132;01m}\u001b[39;00m\u001b[33m\"\u001b[39m)\n",
      "\u001b[31mKeyboardInterrupt\u001b[39m: "
     ]
    }
   ],
   "source": [
    "import os\n",
    "import re\n",
    "import json\n",
    "import time\n",
    "from selenium import webdriver\n",
    "from selenium.webdriver.chrome.options import Options\n",
    "from selenium.webdriver.chrome.service import Service\n",
    "from selenium.webdriver.common.by import By\n",
    "from selenium.webdriver.support.ui import WebDriverWait\n",
    "from selenium.webdriver.support import expected_conditions as EC\n",
    "from webdriver_manager.chrome import ChromeDriverManager\n",
    "\n",
    "# 저장 경로지정\n",
    "save_directory = \"pdf_files\"\n",
    "os.makedirs(save_directory, exist_ok=True)\n",
    "\n",
    "# 크롬 드라이버 설정\n",
    "options = Options()\n",
    "options.add_experimental_option(\"prefs\", {\n",
    "    \"download.default_directory\": os.path.abspath(save_directory),\n",
    "    \"download.prompt_for_download\": False,\n",
    "    \"plugins.always_open_pdf_externally\": True\n",
    "})\n",
    "options.add_argument(\"--headless=new\")\n",
    "\n",
    "# ✅ Service 객체 명시\n",
    "service = Service(ChromeDriverManager().install())\n",
    "driver = webdriver.Chrome(service=service, options=options)\n",
    "\n",
    "# JSON 파일에서 로드함\n",
    "with open(\"patent_cases_all_pages.json\", \"r\", encoding=\"utf-8\") as f:\n",
    "    data = json.load(f)\n",
    "\n",
    "# 각 게시글 페이지에서 다운로드 수행\n",
    "for item in data:\n",
    "    title = item[\"제목\"].strip()\n",
    "    url = item[\"링크\"]\n",
    "    safe_title = re.sub(r'[\\\\/*?:\"<>|]', \"\", title)\n",
    "    print(f\"📄 처리 중: {title}\")\n",
    "\n",
    "    try:\n",
    "        driver.get(url)\n",
    "\n",
    "        # 다운로드 링크 로딩 대기\n",
    "        WebDriverWait(driver, 5).until(\n",
    "            EC.presence_of_element_located((By.XPATH, \"//a[starts-with(@href, 'javascript:download')]\"))\n",
    "        )\n",
    "        link_elem = driver.find_element(By.XPATH, \"//a[starts-with(@href, 'javascript:download')]\")\n",
    "\n",
    "        # 다운로드 트리거\n",
    "        link_elem.click()\n",
    "        print(f\"✅ 다운로드 시작됨: {safe_title}\")\n",
    "\n",
    "        # 다운로드 대기\n",
    "        time.sleep(5)\n",
    "\n",
    "    except Exception as e:\n",
    "        print(f\"❌ 다운로드 실패: {title} - {e}\")\n",
    "\n",
    "# 브라우저 종료\n",
    "driver.quit()\n",
    "print(\"\\n📁 전체 PDF 다운로드 완료\")\n"
   ]
  }
 ],
 "metadata": {
  "kernelspec": {
   "display_name": ".venv",
   "language": "python",
   "name": "python3"
  },
  "language_info": {
   "codemirror_mode": {
    "name": "ipython",
    "version": 3
   },
   "file_extension": ".py",
   "mimetype": "text/x-python",
   "name": "python",
   "nbconvert_exporter": "python",
   "pygments_lexer": "ipython3",
   "version": "3.11.12"
  }
 },
 "nbformat": 4,
 "nbformat_minor": 2
}
