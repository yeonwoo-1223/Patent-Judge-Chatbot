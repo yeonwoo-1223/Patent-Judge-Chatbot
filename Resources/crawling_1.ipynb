{
 "cells": [
  {
   "cell_type": "code",
   "execution_count": 6,
   "metadata": {},
   "outputs": [
    {
     "name": "stdout",
     "output_type": "stream",
     "text": [
      "📄 처리 중: [상표]DoctorsNow 사건(특허법원 2024허15431)\n",
      "⚠️ JavaScript 링크 파싱 실패: [상표]DoctorsNow 사건(특허법원 2024허15431)\n",
      "📄 처리 중: [특허]수상 레저용 보트 권리범위확인 사건(특허법원 2024허14643)\n",
      "⚠️ JavaScript 링크 파싱 실패: [특허]수상 레저용 보트 권리범위확인 사건(특허법원 2024허14643)\n",
      "📄 처리 중: [특허]쇼케이스용 착탈식 자동 회전 도어 권리범위확인 사건(특허법원 2024허12685)\n",
      "⚠️ JavaScript 링크 파싱 실패: [특허]쇼케이스용 착탈식 자동 회전 도어 권리범위확인 사건(특허법원 2024허12685)\n",
      "📄 처리 중: [디자인]여성 원피스의 등록무효(디) 사건(특허법원 2024허13978)\n",
      "⚠️ JavaScript 링크 파싱 실패: [디자인]여성 원피스의 등록무효(디) 사건(특허법원 2024허13978)\n",
      "📄 처리 중: [상표]NK365 상표등록무효 사건(특허법원 2024허12272)\n"
     ]
    },
    {
     "ename": "KeyboardInterrupt",
     "evalue": "",
     "output_type": "error",
     "traceback": [
      "\u001b[31m---------------------------------------------------------------------------\u001b[39m",
      "\u001b[31mKeyboardInterrupt\u001b[39m                         Traceback (most recent call last)",
      "\u001b[36mCell\u001b[39m\u001b[36m \u001b[39m\u001b[32mIn[6]\u001b[39m\u001b[32m, line 39\u001b[39m\n\u001b[32m     37\u001b[39m \u001b[38;5;28;01mtry\u001b[39;00m:\n\u001b[32m     38\u001b[39m     driver.get(url)\n\u001b[32m---> \u001b[39m\u001b[32m39\u001b[39m     \u001b[43mtime\u001b[49m\u001b[43m.\u001b[49m\u001b[43msleep\u001b[49m\u001b[43m(\u001b[49m\u001b[32;43m2\u001b[39;49m\u001b[43m)\u001b[49m\n\u001b[32m     41\u001b[39m     \u001b[38;5;66;03m# 자바스크립트 기반 다운로드 링크 추출\u001b[39;00m\n\u001b[32m     42\u001b[39m     link = WebDriverWait(driver, \u001b[32m5\u001b[39m).until(\n\u001b[32m     43\u001b[39m         EC.presence_of_element_located((By.CSS_SELECTOR, \u001b[33m\"\u001b[39m\u001b[33ma[href^=\u001b[39m\u001b[33m'\u001b[39m\u001b[33mjavascript:download\u001b[39m\u001b[33m'\u001b[39m\u001b[33m]\u001b[39m\u001b[33m\"\u001b[39m))\n\u001b[32m     44\u001b[39m     )\n",
      "\u001b[31mKeyboardInterrupt\u001b[39m: "
     ]
    }
   ],
   "source": [
    "from selenium import webdriver\n",
    "from selenium.webdriver.chrome.service import Service\n",
    "from selenium.webdriver.common.by import By\n",
    "from selenium.webdriver.support.ui import WebDriverWait\n",
    "from selenium.webdriver.support import expected_conditions as EC\n",
    "from selenium.common.exceptions import TimeoutException\n",
    "from webdriver_manager.chrome import ChromeDriverManager\n",
    "import json\n",
    "import time\n",
    "import os\n",
    "import re\n",
    "import requests\n",
    "\n",
    "# 저장 폴더 설정\n",
    "save_directory = \"pdf_files\"\n",
    "os.makedirs(save_directory, exist_ok=True)\n",
    "\n",
    "# JSON 파일 불러오기\n",
    "with open(\"patent_cases_all_pages.json\", \"r\", encoding=\"utf-8\") as f:\n",
    "    data = json.load(f)\n",
    "\n",
    "# 크롬 드라이버 세팅\n",
    "options = webdriver.ChromeOptions()\n",
    "options.add_experimental_option(\"prefs\", {\n",
    "    \"download.prompt_for_download\": False,\n",
    "    \"plugins.always_open_pdf_externally\": True\n",
    "})\n",
    "driver = webdriver.Chrome(service=Service(ChromeDriverManager().install()), options=options)\n",
    "\n",
    "for item in data:\n",
    "    title = item[\"제목\"].strip()\n",
    "    url = item[\"링크\"]\n",
    "    safe_title = re.sub(r'[\\\\/*?:\"<>|]', '', title)\n",
    "\n",
    "    print(f\"📄 처리 중: {title}\")\n",
    "\n",
    "    try:\n",
    "        driver.get(url)\n",
    "        time.sleep(2)\n",
    "\n",
    "        # 자바스크립트 기반 다운로드 링크 추출\n",
    "        link = WebDriverWait(driver, 5).until(\n",
    "            EC.presence_of_element_located((By.CSS_SELECTOR, \"a[href^='javascript:download']\"))\n",
    "        )\n",
    "        href = link.get_attribute(\"href\")\n",
    "\n",
    "        match = re.search(r\"download\\('(.+?)','(.+?)','.*?','.*?'\\)\", href)\n",
    "        if match:\n",
    "            file_key, file_id = match.groups()\n",
    "            download_url = f\"https://patent.scourt.go.kr/dcboard/new/DcNewsAttachFileDown.work?fileKey={file_key}&fileId={file_id}\"\n",
    "\n",
    "            response = requests.get(download_url)\n",
    "            if response.status_code == 200:\n",
    "                file_path = os.path.join(save_directory, f\"{safe_title}.pdf\")\n",
    "                with open(file_path, \"wb\") as f:\n",
    "                    f.write(response.content)\n",
    "                print(f\"✅ PDF 저장 완료: {safe_title}.pdf\")\n",
    "            else:\n",
    "                print(f\"❌ 다운로드 실패 (HTTP {response.status_code}): {title}\")\n",
    "        else:\n",
    "            print(f\"⚠️ JavaScript 링크 파싱 실패: {title}\")\n",
    "\n",
    "    except TimeoutException:\n",
    "        print(f\"❌ PDF 요소 대기 실패 (Timeout): {title}\")\n",
    "    except Exception as e:\n",
    "        print(f\"❌ 오류 발생: {e}\")\n",
    "\n",
    "# 크롬 드라이버 종료\n",
    "driver.quit()\n",
    "print(\"\\n✅ 전체 PDF 다운로드 완료\")\n"
   ]
  }
 ],
 "metadata": {
  "kernelspec": {
   "display_name": ".venv",
   "language": "python",
   "name": "python3"
  },
  "language_info": {
   "codemirror_mode": {
    "name": "ipython",
    "version": 3
   },
   "file_extension": ".py",
   "mimetype": "text/x-python",
   "name": "python",
   "nbconvert_exporter": "python",
   "pygments_lexer": "ipython3",
   "version": "3.11.12"
  }
 },
 "nbformat": 4,
 "nbformat_minor": 2
}
